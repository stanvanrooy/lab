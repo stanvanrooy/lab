{
  "cells": [
    {
      "cell_type": "markdown",
      "metadata": {
        "id": "view-in-github",
        "colab_type": "text"
      },
      "source": [
        "<a href=\"https://colab.research.google.com/github/stanvanrooy/lab/blob/main/numpy_mnist.ipynb\" target=\"_parent\"><img src=\"https://colab.research.google.com/assets/colab-badge.svg\" alt=\"Open In Colab\"/></a>"
      ]
    },
    {
      "cell_type": "code",
      "execution_count": 4,
      "metadata": {
        "id": "IIxOo9Dl8w1N"
      },
      "outputs": [],
      "source": [
        "import numpy as np\n",
        "import pandas as pd\n",
        "from tqdm import trange"
      ]
    },
    {
      "cell_type": "code",
      "execution_count": 5,
      "metadata": {
        "id": "RqwQ_4bWl578"
      },
      "outputs": [],
      "source": [
        "test = pd.read_csv(\"sample_data/mnist_test.csv\").to_numpy()\n",
        "train = pd.read_csv(\"sample_data/mnist_train_small.csv\").to_numpy()\n",
        "\n",
        "test_imgs = test[::, 1::]\n",
        "test_labels = test[::, :1]\n",
        "\n",
        "train_imgs = train[::, 1::]\n",
        "train_labels = train[::, :1]"
      ]
    },
    {
      "cell_type": "code",
      "execution_count": 6,
      "metadata": {
        "id": "GxSHfqRImneV"
      },
      "outputs": [],
      "source": [
        "class Linear:\n",
        "  def __init__(self, x, y):\n",
        "    self.x = x\n",
        "    self.y = y\n",
        "\n",
        "    self.weights = np.random.randn(y, x)\n",
        "    self.biases = np.random.randn(y, x)\n",
        "\n",
        "  def __call__(self, x):\n",
        "    x = np.matmul(self.weights, x)\n",
        "    x = x + np.sum(self.biases, axis=1)\n",
        "    return x\n",
        "\n",
        "\n",
        "class ReLU:\n",
        "  def __call__(self, x):\n",
        "    return np.maximum(x, 0)\n",
        "\n",
        "\n",
        "class Net:\n",
        "  lr = 0.001\n",
        "  epochs = 1000\n",
        "\n",
        "  l1 = Linear(784, 128)\n",
        "  act = ReLU()\n",
        "  l2 = Linear(128, 10)\n",
        "\n",
        "  def __call__(self, img):\n",
        "    img = self.l1(img)\n",
        "    img = self.act(img)\n",
        "    img = self.l2(img)\n",
        "    return img\n"
      ]
    },
    {
      "cell_type": "code",
      "execution_count": 1,
      "metadata": {
        "id": "ZkyW3cSkqDX2"
      },
      "outputs": [],
      "source": []
    }
  ],
  "metadata": {
    "colab": {
      "provenance": [],
      "include_colab_link": true
    },
    "kernelspec": {
      "display_name": "Python 3",
      "name": "python3"
    },
    "language_info": {
      "name": "python"
    }
  },
  "nbformat": 4,
  "nbformat_minor": 0
}