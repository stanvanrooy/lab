{
  "nbformat": 4,
  "nbformat_minor": 0,
  "metadata": {
    "colab": {
      "provenance": [],
      "authorship_tag": "ABX9TyO2RhdcnA1/zGVVIcqxpWy1",
      "include_colab_link": true
    },
    "kernelspec": {
      "name": "python3",
      "display_name": "Python 3"
    },
    "language_info": {
      "name": "python"
    }
  },
  "cells": [
    {
      "cell_type": "markdown",
      "metadata": {
        "id": "view-in-github",
        "colab_type": "text"
      },
      "source": [
        "<a href=\"https://colab.research.google.com/github/stanvanrooy/all-contributors/blob/master/mnist.ipynb\" target=\"_parent\"><img src=\"https://colab.research.google.com/assets/colab-badge.svg\" alt=\"Open In Colab\"/></a>"
      ]
    },
    {
      "cell_type": "code",
      "execution_count": null,
      "metadata": {
        "id": "TYk4SzIClpba"
      },
      "outputs": [],
      "source": [
        "import pandas as pd\n",
        "import matplotlib.pyplot as plt\n",
        "import torch\n",
        "import torch.nn as nn\n",
        "import numpy as np\n",
        "from tqdm import trange"
      ]
    },
    {
      "cell_type": "code",
      "source": [
        "test = pd.read_csv(\"sample_data/mnist_test.csv\").to_numpy()\n",
        "train = pd.read_csv(\"sample_data/mnist_train_small.csv\").to_numpy()\n",
        "\n",
        "test_imgs = test[::, 1::]\n",
        "test_labels = test[::, :1]\n",
        "\n",
        "train_imgs = train[::, 1::]\n",
        "train_labels = train[::, :1]"
      ],
      "metadata": {
        "id": "RqwQ_4bWl578"
      },
      "execution_count": null,
      "outputs": []
    },
    {
      "cell_type": "code",
      "source": [
        "class Net(nn.Module):\n",
        "  def __init__(self):\n",
        "    super().__init__()\n",
        "    self.l1 = nn.Linear(784, 128)\n",
        "    self.act = nn.ReLU()\n",
        "    self.l2 = nn.Linear(128, 10)\n",
        "\n",
        "  def forward(self, x):\n",
        "    x = self.l1(x)\n",
        "    x = self.act(x)\n",
        "    x = self.l2(x)\n",
        "    return x\n"
      ],
      "metadata": {
        "id": "9xRX9unToQbY"
      },
      "execution_count": null,
      "outputs": []
    },
    {
      "cell_type": "code",
      "source": [
        "model = Net()\n",
        "loss_function = nn.CrossEntropyLoss()\n",
        "optimizer = torch.optim.Adam(model.parameters())\n",
        "\n",
        "losses = []\n",
        "accuracies = []\n",
        "\n",
        "bs = 32\n",
        "\n",
        "r = trange(300)\n",
        "for i in r:\n",
        "  samp = np.random.randint(0, train_imgs.shape[0], size=(bs))\n",
        "  imgs = torch.tensor(train_imgs[samp]).float()\n",
        "  labels = torch.tensor(train_labels[samp].flatten())\n",
        "  out = model(imgs)\n",
        "  optimizer.zero_grad()\n",
        "\n",
        "  cat = torch.argmax(out, dim=1)\n",
        "  accuracy = (cat == labels).float().mean()\n",
        "\n",
        "  loss = loss_function(out, labels)\n",
        "  loss.backward()\n",
        "  optimizer.step()\n",
        "  losses.append(loss.item())\n",
        "  accuracies.append(accuracy.item())\n",
        "  r.set_description(f\"loss: {loss.item()}; accuracy: {accuracy.item()}\")"
      ],
      "metadata": {
        "colab": {
          "base_uri": "https://localhost:8080/"
        },
        "id": "ZkyW3cSkqDX2",
        "outputId": "ca9b30b8-01c4-4055-d651-c6e0075c2eae"
      },
      "execution_count": 137,
      "outputs": [
        {
          "output_type": "stream",
          "name": "stderr",
          "text": [
            "loss: 0.04395178705453873; accuracy: 0.96875: 100%|██████████| 300/300 [00:02<00:00, 115.24it/s]\n"
          ]
        }
      ]
    },
    {
      "cell_type": "code",
      "source": [
        "plt.plot(accuracies)"
      ],
      "metadata": {
        "colab": {
          "base_uri": "https://localhost:8080/",
          "height": 283
        },
        "id": "rrKLe-6s_YyG",
        "outputId": "a215cd48-11eb-45a6-fc99-0ec8a07a9959"
      },
      "execution_count": 139,
      "outputs": [
        {
          "output_type": "execute_result",
          "data": {
            "text/plain": [
              "[<matplotlib.lines.Line2D at 0x7f4024926810>]"
            ]
          },
          "metadata": {},
          "execution_count": 139
        },
        {
          "output_type": "display_data",
          "data": {
            "text/plain": [
              "<Figure size 432x288 with 1 Axes>"
            ],
            "image/png": "[encoded data removed]"
          },
          "metadata": {
            "needs_background": "light"
          }
        }
      ]
    },
    {
      "cell_type": "code",
      "source": [
        "out = model(torch.tensor(test_imgs).float())\n",
        "cat = torch.argmax(out, dim=1)\n",
        "labels = torch.tensor(test_labels.flatten())\n",
        "accuracy = (cat == labels).float().mean()\n",
        "print(accuracy)"
      ],
      "metadata": {
        "colab": {
          "base_uri": "https://localhost:8080/"
        },
        "id": "TrSUffjOvlMu",
        "outputId": "9af6ce20-cbd3-4602-9179-51774dc33829"
      },
      "execution_count": null,
      "outputs": [
        {
          "output_type": "stream",
          "name": "stdout",
          "text": [
            "tensor(0.9147)\n"
          ]
        }
      ]
    },
    {
      "cell_type": "code",
      "source": [
        "idx = 322\n",
        "img = test_imgs[idx]\n",
        "label = test_labels[idx]\n",
        "plt.imshow(img.reshape(28, 28))\n",
        "out = model(torch.tensor(img).float())\n",
        "print(label, torch.argmax(out).item())"
      ],
      "metadata": {
        "colab": {
          "base_uri": "https://localhost:8080/",
          "height": 283
        },
        "id": "7DLEPRlf-irE",
        "outputId": "7d5902e8-75f3-48ec-eba4-19a46ff1ba66"
      },
      "execution_count": 144,
      "outputs": [
        {
          "output_type": "stream",
          "name": "stdout",
          "text": [
            "[3] 3\n"
          ]
        },
        {
          "output_type": "display_data",
          "data": {
            "text/plain": [
              "<Figure size 432x288 with 1 Axes>"
            ],
            "image/png": "[encoded data removed]"
          },
          "metadata": {
            "needs_background": "light"
          }
        }
      ]
    }
  ]
}
